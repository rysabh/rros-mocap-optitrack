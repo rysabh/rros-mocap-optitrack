{
 "cells": [
  {
   "cell_type": "code",
   "execution_count": 140,
   "metadata": {},
   "outputs": [],
   "source": [
    "import numpy as np \n",
    "import pandas as pd \n",
    "import matplotlib.pyplot as plt  \n",
    "import glob \n",
    "import os \n",
    "from scipy.ndimage import generic_filter\n",
    "from scipy.signal import find_peaks "
   ]
  },
  {
   "cell_type": "code",
   "execution_count": 154,
   "metadata": {},
   "outputs": [
    {
     "name": "stdout",
     "output_type": "stream",
     "text": [
      "704\n",
      "446\n",
      "364\n"
     ]
    }
   ],
   "source": [
    "def flat_region_filter(data: np.array, window_size = 200): \n",
    "    stddev = generic_filter(data, np.std, size=window_size) \n",
    "    movmean_stddev = pd.Series(stddev).rolling(window=window_size).mean() \n",
    "    idx_min_std = np.argmin(movmean_stddev) \n",
    "    idx_flat = np.arange(max([0,idx_min_std-window_size]), idx_min_std).astype(int) \n",
    "    data_flat_filt = data[idx_flat]  \n",
    "    return idx_flat, data_flat_filt \n",
    "\n",
    "def filter_wrench_flat(data: pd.DataFrame, window_size=200) -> np.array: \n",
    "    FZ = data.loc[:,'FZ'].to_numpy()\n",
    "    idx_flat, _ = flat_region_filter(FZ, window_size) \n",
    "    wrench_filtered = data.loc[idx_flat,['FX','FY','FZ','TX','TY','TZ']].to_numpy()  \n",
    "    wrench_filtered_mean = np.mean(wrench_filtered, axis=0)\n",
    "    return wrench_filtered_mean \n",
    "\n",
    "def clip_past_contact(data: pd.DataFrame) -> [pd.DataFrame, int, list]: \n",
    "    FZ = data.loc[:,'FZ'].to_numpy()\n",
    "    # idx_peaks, properties = find_peaks(np.diff(np.array(-data.loc[:,'FZ'])), distance=500)\n",
    "    idx_peaks, properties = find_peaks((np.array(-data.loc[:,'FZ'])), distance=500, height=20)\n",
    "    properties['peak_heights'] if 'peak_heights' in properties else np.diff(np.array(-data.loc[idx_peaks,'FZ']))\n",
    "    num_peaks = min([2,len(idx_peaks)])\n",
    "    min_samples = 250 \n",
    "    \n",
    "    if len(idx_peaks) != 0: \n",
    "        idx_clip = idx_peaks[-num_peaks]  \n",
    "    else: \n",
    "        idx_clip = len(data)-min_samples \n",
    "\n",
    "    idx_clip = min(idx_clip, len(data)-min_samples) # have at least min num of samples \n",
    "    data_clipped = data.loc[idx_clip:,:] \n",
    "    data_clipped = data_clipped.reset_index(drop=True)\n",
    "\n",
    "    return data_clipped, idx_clip, idx_peaks \n",
    "\n",
    "# read all csv files in folder \n",
    "directory = '../../../wrench_timeseries_data/trial_17/' \n",
    "file_pattern = '*.csv'\n",
    "files = glob.glob(os.path.join(directory, file_pattern)) \n",
    "# print(files)\n",
    "\n",
    "# read specific file \n",
    "df_list = [] \n",
    "for j, file in enumerate(files):     \n",
    "    df = pd.read_csv(file)\n",
    "    # df = df.iloc[:500,:] \n",
    "    df_list.append(df) \n",
    "\n",
    "# find peak in data \n",
    "\n",
    "# filter data \n",
    "idx_flat = [] \n",
    "idx_peaks_list = [] \n",
    "for i, df in enumerate(df_list): \n",
    "    clipped_data, idx_clip, idx_peaks = clip_past_contact(df) \n",
    "    print(len(clipped_data)) \n",
    "    idx_flat_i, _ = flat_region_filter(clipped_data.loc[:,'FZ'].to_numpy(), window_size=200) \n",
    "    idx_flat.append(idx_clip + idx_flat_i)\n",
    "    idx_peaks_list.append(idx_peaks)\n",
    "\n",
    "    # throw error \n",
    "    if len(idx_flat_i) == 0: \n",
    "        print(f\"Empty indices for case {i}!\") \n",
    "\n",
    "\n",
    "# plot data \n",
    "\n",
    "%matplotlib qt \n",
    "\n",
    "dim_plots = ['FX','FY','FZ','TX','TY','TZ'] \n",
    "dim_coord = np.array([[0,0],[0,1],[0,2],[1,0],[1,1],[1,2]])\n",
    "\n",
    "num_rows = max(dim_coord[:,0]) + 1\n",
    "num_cols = max(dim_coord[:,1]) + 1\n",
    "\n",
    "fig, axs = plt.subplots(num_rows, num_cols, figsize=(20,10))  \n",
    "for i, dim in enumerate(dim_plots): \n",
    "    axs_handle = axs[dim_coord[i,0],dim_coord[i,1]]\n",
    "    for j in [2]: #range(len(df_list)): \n",
    "        axs_handle.plot(df_list[j][dim]) \n",
    "        axs_handle.plot(idx_flat[j], df_list[j].loc[idx_flat[j], dim].to_numpy(), color='red') \n",
    "        axs_handle.scatter(idx_peaks_list[j], df_list[j].loc[idx_peaks_list[j], dim].to_numpy(), marker='x', color='red')\n",
    "    axs_handle.set_title(dim) \n",
    "    axs_handle.legend(range(2*len(files))) \n",
    "    # axs_handle.set_xlim((0,500)) "
   ]
  },
  {
   "cell_type": "code",
   "execution_count": 147,
   "metadata": {},
   "outputs": [
    {
     "ename": "IndexError",
     "evalue": "list index out of range",
     "output_type": "error",
     "traceback": [
      "\u001b[0;31m---------------------------------------------------------------------------\u001b[0m",
      "\u001b[0;31mIndexError\u001b[0m                                Traceback (most recent call last)",
      "Cell \u001b[0;32mIn[147], line 1\u001b[0m\n\u001b[0;32m----> 1\u001b[0m \u001b[43mdf_list\u001b[49m\u001b[43m[\u001b[49m\u001b[38;5;241;43m0\u001b[39;49m\u001b[43m]\u001b[49m\n",
      "\u001b[0;31mIndexError\u001b[0m: list index out of range"
     ]
    }
   ],
   "source": [
    "df_list[0]"
   ]
  },
  {
   "cell_type": "code",
   "execution_count": 108,
   "metadata": {},
   "outputs": [],
   "source": [
    "# plot kuka data stream \n",
    "\n",
    "wk = pd.read_csv(\"../../../kuka_wrench_data_stream.csv\")\n",
    "wk.columns =  ['FX','FY','FZ','TX','TY','TZ'] \n",
    "\n",
    "wk = wk.loc[1500:3000,:] # clip data \n",
    "\n",
    "dim_plots = ['FX','FY','FZ','TX','TY','TZ'] \n",
    "dim_coord = np.array([[0,0],[0,1],[0,2],[1,0],[1,1],[1,2]])\n",
    "\n",
    "num_rows = max(dim_coord[:,0]) + 1\n",
    "num_cols = max(dim_coord[:,1]) + 1\n",
    "\n",
    "fig, axs = plt.subplots(num_rows, num_cols, figsize=(20,10))  \n",
    "for i, dim in enumerate(dim_plots): \n",
    "    axs_handle = axs[dim_coord[i,0],dim_coord[i,1]]\n",
    "    for j in [1]: #range(len(df_list)): \n",
    "        axs_handle.plot(wk[dim]) \n",
    "    axs_handle.set_title(dim) \n"
   ]
  }
 ],
 "metadata": {
  "kernelspec": {
   "display_name": "Python 3",
   "language": "python",
   "name": "python3"
  },
  "language_info": {
   "codemirror_mode": {
    "name": "ipython",
    "version": 3
   },
   "file_extension": ".py",
   "mimetype": "text/x-python",
   "name": "python",
   "nbconvert_exporter": "python",
   "pygments_lexer": "ipython3",
   "version": "3.10.12"
  }
 },
 "nbformat": 4,
 "nbformat_minor": 2
}
